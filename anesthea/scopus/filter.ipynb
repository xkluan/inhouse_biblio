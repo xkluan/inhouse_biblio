{
 "cells": [
  {
   "cell_type": "code",
   "execution_count": 1,
   "id": "75528da3",
   "metadata": {},
   "outputs": [],
   "source": [
    "import pandas as pd\n",
    "\n",
    "# Load the CSV file\n",
    "file_path = './updated_filtered_scopus_modified.csv'  # Replace 'your_file_path.csv' with the path to your CSV file\n",
    "articles_df = pd.read_csv(file_path)\n",
    "\n",
    "# Define the keywords for filtering\n",
    "keywords = [\"Anesthesiology\", \"Anesthesia\", \"Pain Management\", \"Perioperative Care\", \"Sedation\", \"Anesthetic Monitoring\"]\n",
    "\n",
    "# Function to check if any keyword is present in the text\n",
    "def contains_keyword(text):\n",
    "    if pd.isna(text):\n",
    "        return False\n",
    "    for keyword in keywords:\n",
    "        if keyword.lower() in text.lower():\n",
    "            return True\n",
    "    return False\n",
    "\n",
    "# Add a new column to indicate whether the article is related to anesthesiology\n",
    "articles_df['Related to Anesthesiology'] = articles_df.apply(lambda row: contains_keyword(row['Title']) or contains_keyword(row['Abstract']), axis=1)\n",
    "\n",
    "# Save the updated dataframe to a new CSV file\n",
    "# updated_file_path = 'updated_scopus_with_relevance.csv'  # You can specify a different path or file name here\n",
    "# articles_df.to_csv(updated_file_path, index=False)\n"
   ]
  },
  {
   "cell_type": "code",
   "execution_count": 3,
   "id": "4ab1a41f",
   "metadata": {},
   "outputs": [
    {
     "data": {
      "text/plain": [
       "'Background: The application of data-driven methods is expected to play an increasingly important role in healthcare. However, a lack of personnel with the necessary skills to develop these models and interpret its output is preventing a wider adoption of these methods. To address this gap, we introduce and describe ORIENTATE, a software for automated application of machine learning classification algorithms by clinical practitioners lacking specific technical skills. ORIENTATE allows the selection of features and the target variable, then automatically generates a number of classification models and cross-validates them, finding the best model and evaluating it. It also implements a custom feature selection algorithm for systematic searches of the best combination of predictors for a given target variable. Finally, it outputs a comprehensive report with graphs that facilitates the explanation of the classification model results, using global interpretation methods, and an interface for the prediction of new input samples. Feature relevance and interaction plots provided by ORIENTATE allow to use it for statistical inference, which can replace and/or complement classical statistical studies. Results: Its application to a dataset with healthy and special health care needs (SHCN) children, treated under deep sedation, was discussed as case study. On the example dataset, despite its small size, the feature selection algorithm found a set of features able to predict the need for a second sedation with a f1 score of 0.83 and a ROC (AUC) of 0.92. Eight predictive factors for both populations were found and ordered by the relevance assigned to them by the model. A discussion of how to derive inferences from the relevance and interaction plots and a comparison with a classical study is also provided. Conclusions: ORIENTATE automatically finds suitable features and generates accurate classifiers which can be used in preventive tasks. In addition, researchers without specific skills on data methods can use it for the application of machine learning classification and as a complement to classical studies for inferential analysis of features. In the case study, a high prediction accuracy for a second sedation in SHCN children was achieved. The analysis of the relevance of the features showed that the number of teeth with pulpar treatments at the first sedation is a predictive factor for a second sedation. © 2023, The Author(s).'"
      ]
     },
     "execution_count": 3,
     "metadata": {},
     "output_type": "execute_result"
    }
   ],
   "source": [
    "articles_df.loc[1, \"Abstract\"]"
   ]
  },
  {
   "cell_type": "code",
   "execution_count": 5,
   "id": "5c2511a3",
   "metadata": {},
   "outputs": [
    {
     "data": {
      "text/plain": [
       "1504"
      ]
     },
     "execution_count": 5,
     "metadata": {},
     "output_type": "execute_result"
    }
   ],
   "source": [
    "len(articles_df)"
   ]
  },
  {
   "cell_type": "code",
   "execution_count": 9,
   "id": "ee1725a7",
   "metadata": {},
   "outputs": [
    {
     "data": {
      "text/plain": [
       "995"
      ]
     },
     "execution_count": 9,
     "metadata": {},
     "output_type": "execute_result"
    }
   ],
   "source": [
    "len(articles_df[articles_df['Related to Anesthesiology']==True])"
   ]
  },
  {
   "cell_type": "code",
   "execution_count": 10,
   "id": "041b438c",
   "metadata": {},
   "outputs": [
    {
     "data": {
      "text/plain": [
       "Index(['Authors', 'Author full names', 'Author(s) ID', 'Title', 'Year',\n",
       "       'Source title', 'Volume', 'Issue', 'Art. No.', 'Page start', 'Page end',\n",
       "       'Page count', 'Cited by', 'DOI', 'Link', 'Affiliations',\n",
       "       'Authors with affiliations', 'Abstract', 'Author Keywords',\n",
       "       'Index Keywords', 'Molecular Sequence Numbers', 'Chemicals/CAS',\n",
       "       'Tradenames', 'Manufacturers', 'Funding Details', 'Funding Texts',\n",
       "       'References', 'Correspondence Address', 'Editors', 'Publisher',\n",
       "       'Sponsors', 'Conference name', 'Conference date', 'Conference location',\n",
       "       'Conference code', 'ISSN', 'ISBN', 'CODEN', 'PubMed ID',\n",
       "       'Language of Original Document', 'Abbreviated Source Title',\n",
       "       'Document Type', 'Publication Stage', 'Open Access', 'Source', 'EID',\n",
       "       'Related to Anesthesiology'],\n",
       "      dtype='object')"
      ]
     },
     "execution_count": 10,
     "metadata": {},
     "output_type": "execute_result"
    }
   ],
   "source": [
    "articles_df.columns"
   ]
  },
  {
   "cell_type": "code",
   "execution_count": 11,
   "id": "408ddbfd",
   "metadata": {},
   "outputs": [
    {
     "data": {
      "text/plain": [
       "0                                                     NaN\n",
       "1       Classification; Deep sedation; Machine learnin...\n",
       "2                                                     NaN\n",
       "3       Bariatric surgery; Cost analysis; Cost predict...\n",
       "4       channel-spatial attention; deep learning; gene...\n",
       "                              ...                        \n",
       "1499           Cecal intubation time; Colonoscopy; Magnet\n",
       "1500    Apoptosis; Ischemia reperfusion injury; NEP1-4...\n",
       "1501    anesthesiology; closed-loop; fuzzy system; hea...\n",
       "1502    Adrenal function; Adrenal insufficiency; Cardi...\n",
       "1503    ANZCA; Examinations; Learning approaches; Spec...\n",
       "Name: Author Keywords, Length: 1504, dtype: object"
      ]
     },
     "execution_count": 11,
     "metadata": {},
     "output_type": "execute_result"
    }
   ],
   "source": [
    "articles_df['Author Keywords']"
   ]
  },
  {
   "cell_type": "code",
   "execution_count": 12,
   "id": "7632006f",
   "metadata": {},
   "outputs": [
    {
     "name": "stdout",
     "output_type": "stream",
     "text": [
      "'Author Keywords' column missing values: 338\n",
      "'Index Keywords' column missing values: 140\n"
     ]
    }
   ],
   "source": [
    "# 计算 'Author Keywords' 列中缺失值的数量\n",
    "missing_author_keywords = articles_df['Author Keywords'].isna().sum()\n",
    "\n",
    "# 计算 'Index Keywords' 列中缺失值的数量\n",
    "missing_index_keywords = articles_df['Index Keywords'].isna().sum()\n",
    "\n",
    "# 打印结果\n",
    "print(f\"'Author Keywords' column missing values: {missing_author_keywords}\")\n",
    "print(f\"'Index Keywords' column missing values: {missing_index_keywords}\")"
   ]
  },
  {
   "cell_type": "code",
   "execution_count": 13,
   "id": "59bec584",
   "metadata": {},
   "outputs": [
    {
     "name": "stdout",
     "output_type": "stream",
     "text": [
      "Rows with missing values in both 'Author Keywords' and 'Index Keywords': 22\n"
     ]
    }
   ],
   "source": [
    "# 计算同时在 'Author Keywords' 和 'Index Keywords' 这两列中缺失的行数\n",
    "missing_both = articles_df[articles_df['Author Keywords'].isna() & articles_df['Index Keywords'].isna()].shape[0]\n",
    "\n",
    "# 打印结果\n",
    "print(f\"Rows with missing values in both 'Author Keywords' and 'Index Keywords': {missing_both}\")\n"
   ]
  },
  {
   "cell_type": "code",
   "execution_count": 14,
   "id": "5f669a36",
   "metadata": {},
   "outputs": [],
   "source": [
    "keywords = [\"Anesthesiology\", \"Anesthesia\", \"Pain Management\", \"Perioperative Care\", \"Sedation\", \"Anesthetic Monitoring\"]\n",
    "\n",
    "# Function to check if any keyword is present in the text\n",
    "def contains_keyword(text):\n",
    "    if pd.isna(text):\n",
    "        return False\n",
    "    for keyword in keywords:\n",
    "        if keyword.lower() in text.lower():\n",
    "            return True\n",
    "    return False\n",
    "\n",
    "# Add a new column to indicate whether the article is related to anesthesiology\n",
    "articles_df['Related to Anesthesiology2'] = articles_df.apply(lambda row: contains_keyword(row['Title']) or contains_keyword(row['Author Keywords']) or contains_keyword(row['Index Keywords']), axis=1)\n"
   ]
  },
  {
   "cell_type": "code",
   "execution_count": 15,
   "id": "663bc2c0",
   "metadata": {},
   "outputs": [
    {
     "data": {
      "text/plain": [
       "1105"
      ]
     },
     "execution_count": 15,
     "metadata": {},
     "output_type": "execute_result"
    }
   ],
   "source": [
    "len(articles_df[articles_df['Related to Anesthesiology2']==True])"
   ]
  },
  {
   "cell_type": "code",
   "execution_count": 16,
   "id": "da050cf9",
   "metadata": {},
   "outputs": [
    {
     "name": "stdout",
     "output_type": "stream",
     "text": [
      "0\n"
     ]
    }
   ],
   "source": [
    "missing_abstract_keywords = articles_df['Abstract'].isna().sum()\n",
    "print(missing_abstract_keywords)"
   ]
  },
  {
   "cell_type": "code",
   "execution_count": 20,
   "id": "4cfac792",
   "metadata": {},
   "outputs": [],
   "source": [
    "articles_df['Related to Anesthesiology3'] = articles_df['Related to Anesthesiology'] & articles_df['Related to Anesthesiology2']"
   ]
  },
  {
   "cell_type": "code",
   "execution_count": 21,
   "id": "7ab6de96",
   "metadata": {},
   "outputs": [
    {
     "data": {
      "text/plain": [
       "646"
      ]
     },
     "execution_count": 21,
     "metadata": {},
     "output_type": "execute_result"
    }
   ],
   "source": [
    "len(articles_df[articles_df['Related to Anesthesiology3']==True])"
   ]
  },
  {
   "cell_type": "code",
   "execution_count": 22,
   "id": "746ef6a9",
   "metadata": {},
   "outputs": [],
   "source": [
    "updated_file_path = \"./3level_filter.csv\"\n",
    "articles_df.to_csv(updated_file_path, index=False)"
   ]
  },
  {
   "cell_type": "code",
   "execution_count": 23,
   "id": "9aa4f30c",
   "metadata": {},
   "outputs": [],
   "source": [
    "import pandas as pd\n",
    "import numpy as np\n",
    "from sklearn.feature_extraction.text import CountVectorizer\n",
    "from nltk.corpus import stopwords\n",
    "from nltk.tokenize import word_tokenize\n",
    "import string\n"
   ]
  },
  {
   "cell_type": "code",
   "execution_count": 29,
   "id": "061ea92f",
   "metadata": {},
   "outputs": [],
   "source": [
    "df = articles_df\n",
    "def preprocess_text(text):\n",
    "    text = text.lower()\n",
    "    text = ''.join([char for char in text if char not in string.punctuation])\n",
    "    words = word_tokenize(text)\n",
    "    return ' '.join([word for word in words if word not in stopwords.words('english')])\n",
    "\n",
    "# 应用文本预处理\n",
    "df['Processed_Abstract'] = df['Abstract'].apply(preprocess_text)\n",
    "df['Processed_Keywords'] = df['Author Keywords'].apply(lambda x: preprocess_text(x) if isinstance(x, str) else '')\n",
    "df['Processed_Title'] = df['Title'].apply(preprocess_text)"
   ]
  },
  {
   "cell_type": "code",
   "execution_count": 26,
   "id": "586125ca",
   "metadata": {},
   "outputs": [
    {
     "name": "stderr",
     "output_type": "stream",
     "text": [
      "[nltk_data] Downloading package punkt to /Users/lxk/nltk_data...\n",
      "[nltk_data]   Unzipping tokenizers/punkt.zip.\n"
     ]
    },
    {
     "data": {
      "text/plain": [
       "True"
      ]
     },
     "execution_count": 26,
     "metadata": {},
     "output_type": "execute_result"
    }
   ],
   "source": [
    "import nltk\n",
    "nltk.download('punkt')"
   ]
  },
  {
   "cell_type": "code",
   "execution_count": 28,
   "id": "167c1111",
   "metadata": {},
   "outputs": [
    {
     "name": "stderr",
     "output_type": "stream",
     "text": [
      "[nltk_data] Downloading package stopwords to /Users/lxk/nltk_data...\n",
      "[nltk_data]   Unzipping corpora/stopwords.zip.\n"
     ]
    },
    {
     "data": {
      "text/plain": [
       "True"
      ]
     },
     "execution_count": 28,
     "metadata": {},
     "output_type": "execute_result"
    }
   ],
   "source": [
    "nltk.download('stopwords')"
   ]
  },
  {
   "cell_type": "code",
   "execution_count": 30,
   "id": "c70972b6",
   "metadata": {},
   "outputs": [
    {
     "data": {
      "text/plain": [
       "0       problem implementation competencybased medical...\n",
       "1       background application datadriven methods expe...\n",
       "2       preoperative knowledge expected postoperative ...\n",
       "3       hospitals facing difficulties predicting evalu...\n",
       "4       vast amounts monitoring data obtained various ...\n",
       "                              ...                        \n",
       "1499    background colonoscopy considered effective me...\n",
       "1500    background retina ischemia reperfusion injury ...\n",
       "1501    introduction measuring ensuring adequate level...\n",
       "1502    although evidence suggests benefit steroid sup...\n",
       "1503    evaluating assessments impact learning often o...\n",
       "Name: Processed_Abstract, Length: 1504, dtype: object"
      ]
     },
     "execution_count": 30,
     "metadata": {},
     "output_type": "execute_result"
    }
   ],
   "source": [
    "df['Processed_Abstract']"
   ]
  },
  {
   "cell_type": "code",
   "execution_count": 31,
   "id": "d1628f57",
   "metadata": {},
   "outputs": [
    {
     "data": {
      "text/plain": [
       "0                                                        \n",
       "1       classification deep sedation machine learning ...\n",
       "2                                                        \n",
       "3       bariatric surgery cost analysis cost predictio...\n",
       "4       channelspatial attention deep learning general...\n",
       "                              ...                        \n",
       "1499             cecal intubation time colonoscopy magnet\n",
       "1500    apoptosis ischemia reperfusion injury nep140 n...\n",
       "1501    anesthesiology closedloop fuzzy system heart r...\n",
       "1502    adrenal function adrenal insufficiency cardiac...\n",
       "1503    anzca examinations learning approaches special...\n",
       "Name: Processed_Keywords, Length: 1504, dtype: object"
      ]
     },
     "execution_count": 31,
     "metadata": {},
     "output_type": "execute_result"
    }
   ],
   "source": [
    "df['Processed_Keywords']"
   ]
  },
  {
   "cell_type": "code",
   "execution_count": 32,
   "id": "e3184681",
   "metadata": {},
   "outputs": [
    {
     "data": {
      "text/plain": [
       "0       deep learning model automated trainee assessme...\n",
       "1       orientate automated machine learning classifie...\n",
       "2       development prospective validation postoperati...\n",
       "3       development validation predictive model hospit...\n",
       "4       multiscene mask detection based multiscale res...\n",
       "                              ...                        \n",
       "1499    colonoscopy magnetic control system navigate f...\n",
       "1500    protection nep140 retinal cells following reti...\n",
       "1501    design implementation control system reflectin...\n",
       "1502    adrenal insufficiency children undergoing hear...\n",
       "1503    approaches learning anzca final examination va...\n",
       "Name: Processed_Title, Length: 1504, dtype: object"
      ]
     },
     "execution_count": 32,
     "metadata": {},
     "output_type": "execute_result"
    }
   ],
   "source": [
    "df['Processed_Title']"
   ]
  },
  {
   "cell_type": "code",
   "execution_count": 33,
   "id": "3f8af98b",
   "metadata": {},
   "outputs": [],
   "source": [
    "df.to_csv('keywords_expansion.csv',index=False)"
   ]
  },
  {
   "cell_type": "code",
   "execution_count": null,
   "id": "d1fa61e0",
   "metadata": {},
   "outputs": [],
   "source": []
  }
 ],
 "metadata": {
  "kernelspec": {
   "display_name": "Python 3 (ipykernel)",
   "language": "python",
   "name": "python3"
  },
  "language_info": {
   "codemirror_mode": {
    "name": "ipython",
    "version": 3
   },
   "file_extension": ".py",
   "mimetype": "text/x-python",
   "name": "python",
   "nbconvert_exporter": "python",
   "pygments_lexer": "ipython3",
   "version": "3.9.12"
  }
 },
 "nbformat": 4,
 "nbformat_minor": 5
}
